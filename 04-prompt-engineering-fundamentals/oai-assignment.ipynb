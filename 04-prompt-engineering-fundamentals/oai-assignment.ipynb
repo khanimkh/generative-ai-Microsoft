#### Exercise 2: Validate OpenAI API Key Setup with OpenAI instead of AzureOpenAI
#### Run the code below to verify that your OpenAI endpoint is set up correctly. 
#### The code just tries a simple basic prompt and validates the completion. 
#### Input `oh say can you see` should complete along the lines of `by the dawn's early light..`


## Updated
import os
import openai 
openai.api_key=os.environ['OPENAI_API_KEY'],  # this is also the default, it can be omitted


## Updated
def get_completion(prompt, model="gpt-3.5-turbo"):
    messages = [{"role": "user", "content": prompt}]       
    response = openai.chat.completions.create(   
        model=model,                                         
        messages=messages,
        temperature=0, # this is the degree of randomness of the model's output
        max_tokens=1024
    )
    return response.choices[0].message.content

## ---------- Call the helper method

### 1. Set primary content or prompt text
text = f"""
oh say can you see
"""

### 2. Use that in the prompt template below
prompt = f"""
```{text}```
"""

## 3. Run the prompt
response = get_completion(prompt)
print(response)
